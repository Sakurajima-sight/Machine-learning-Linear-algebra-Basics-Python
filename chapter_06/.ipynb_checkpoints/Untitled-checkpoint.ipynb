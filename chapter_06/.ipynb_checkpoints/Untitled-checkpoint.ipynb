{
 "cells": [
  {
   "cell_type": "code",
   "execution_count": null,
   "id": "242ac2fa",
   "metadata": {
    "ExecuteTime": {
     "end_time": "2022-08-10T14:56:19.718539Z",
     "start_time": "2022-08-10T14:56:19.512545Z"
    }
   },
   "outputs": [],
   "source": [
    "import numpy as np\n",
    "from PIL import Image"
   ]
  },
  {
   "cell_type": "code",
   "execution_count": null,
   "id": "4aac3775",
   "metadata": {
    "ExecuteTime": {
     "end_time": "2022-08-10T14:56:19.766540Z",
     "start_time": "2022-08-10T14:56:19.720540Z"
    }
   },
   "outputs": [],
   "source": [
    "import numpy as np\n",
    "\n",
    "scoreData = np.mat([\n",
    "[5,2,1,4,0,0,2,4,0,0,0],\n",
    "[0,0,0,0,0,0,0,0,0,3,0],\n",
    "[1,0,5,2,0,0,3,0,3,0,1],\n",
    "[0,5,0,0,4,0,1,0,0,0,0],\n",
    "[0,0,0,0,0,4,0,0,0,4,0],\n",
    "[0,0,1,0,0,0,1,0,0,5,0],\n",
    "[5,0,2,4,2,1,0,3,0,1,0],\n",
    "[0,4,0,0,5,4,0,0,0,0,5],\n",
    "[0,0,0,0,0,0,4,0,4,5,0],\n",
    "[0,0,0,4,0,0,1,5,0,0,0],\n",
    "[0,0,0,0,4,5,0,0,0,0,3],\n",
    "[4,2,1,4,0,0,2,4,0,0,0],\n",
    "[0,1,4,1,2,1,5,0,5,0,0],\n",
    "[0,0,0,0,0,4,0,0,0,4,0],\n",
    "[2,5,0,0,4,0,0,0,0,0,0],\n",
    "[5,0,0,0,0,0,0,4,2,0,0],\n",
    "[0,2,4,0,4,3,4,0,0,0,0],\n",
    "[0,3,5,1,0,0,4,1,0,0,0]\n",
    "])\n",
    "\n",
    "def cosSim(vec_1, vec_2):\n",
    "    dotProd = float(np.dot(vec_1.T, vec_2))\n",
    "    normProd = np.linalg.norm(vec_1)*np.linalg.norm(vec_2)\n",
    "    return 0.5+0.5*(dotProd/normProd)\n",
    "\n",
    "def estScore(scoreData,scoreDataRC,userIndex,itemIndex):\n",
    "    n = np.shape(scoreData)[1]\n",
    "    simSum = 0\n",
    "    simSumScore = 0\n",
    "    for i in range(n):\n",
    "        userScore = scoreData[userIndex,i]\n",
    "        if userScore == 0 or i == itemIndex:\n",
    "            continue\n",
    "        sim = cosSim(scoreDataRC[:, i], scoreDataRC[:, itemIndex])\n",
    "        simSum = float(simSum + sim)\n",
    "        simSumScore = simSumScore + userScore * sim\n",
    "    if simSum == 0:\n",
    "        return 0\n",
    "    return simSumScore / simSum\n",
    "\n",
    "U, sigma, VT = np.linalg.svd(scoreData)\n",
    "\n",
    "sigmaSum = 0\n",
    "k_num = 0\n",
    "\n",
    "for k in range(len(sigma)):\n",
    "    sigmaSum = sigmaSum + sigma[k] * sigma[k]\n",
    "    if float(sigmaSum)/float(np.sum(sigma ** 2)) > 0.9:\n",
    "        k_num = k+1\n",
    "        break\n",
    "\n",
    "sigma_K = np.mat(np.eye(k_num)*sigma[:k_num])\n",
    "scoreDataRC = sigma_K * U.T[:k_num, :] * scoreData\n",
    "\n",
    "n = np.shape(scoreData)[1]\n",
    "userIndex = 17\n",
    "\n",
    "for i in range(n):\n",
    "    userScore = scoreData[17, i]\n",
    "    if userScore != 0:\n",
    "        continue\n",
    "    print(\"index:{},score:{}\".format(i, estScore(scoreData, scoreDataRC, userIndex, i)))"
   ]
  },
  {
   "cell_type": "code",
   "execution_count": null,
   "id": "0af9e97c",
   "metadata": {
    "ExecuteTime": {
     "end_time": "2022-08-10T14:56:19.782531Z",
     "start_time": "2022-08-10T14:56:19.768533Z"
    }
   },
   "outputs": [],
   "source": [
    "scoreTable=np.mat([[5,1,4],\n",
    "                  [1,5,2],\n",
    "                  [5,2,4],\n",
    "                  [4,1,4]])\n",
    "def cosSim(vec_1,vec_2):\n",
    "    dotProd=float(np.dot(vec_1.T,vec_2))\n",
    "    normProd=np.linalg.norm(vec_1)*np.linalg.norm(vec_2)\n",
    "    return 0.5+0.5*(dotProd/normProd)\n",
    "\n",
    "print(cosSim(scoreTable[:,0],scoreTable[:,1]))\n",
    "print(cosSim(scoreTable[:,0],scoreTable[:,2]))\n",
    "print(cosSim(scoreTable[:,1],scoreTable[:,2]))"
   ]
  },
  {
   "cell_type": "code",
   "execution_count": null,
   "id": "79b0a0dd",
   "metadata": {
    "ExecuteTime": {
     "end_time": "2022-08-10T14:56:19.798531Z",
     "start_time": "2022-08-10T14:56:19.784539Z"
    }
   },
   "outputs": [],
   "source": [
    "scoreData.shape"
   ]
  },
  {
   "cell_type": "code",
   "execution_count": null,
   "id": "e7fdba6a",
   "metadata": {
    "ExecuteTime": {
     "end_time": "2022-08-10T14:56:19.814538Z",
     "start_time": "2022-08-10T14:56:19.800538Z"
    }
   },
   "outputs": [],
   "source": [
    "import numpy as np\n",
    "\n",
    "scoreData = np.mat([\n",
    "[5,2,1,4,0,0,2,4,0,0,0],\n",
    "[0,0,0,0,0,0,0,0,0,3,0],\n",
    "[1,0,5,2,0,0,3,0,3,0,1],\n",
    "[0,5,0,0,4,0,1,0,0,0,0],\n",
    "[0,0,0,0,0,4,0,0,0,4,0],\n",
    "[0,0,1,0,0,0,1,0,0,5,0],\n",
    "[5,0,2,4,2,1,0,3,0,1,0],\n",
    "[0,4,0,0,5,4,0,0,0,0,5],\n",
    "[0,0,0,0,0,0,4,0,4,5,0],\n",
    "[0,0,0,4,0,0,1,5,0,0,0],\n",
    "[0,0,0,0,4,5,0,0,0,0,3],\n",
    "[4,2,1,4,0,0,2,4,0,0,0],\n",
    "[0,1,4,1,2,1,5,0,5,0,0],\n",
    "[0,0,0,0,0,4,0,0,0,4,0],\n",
    "[2,5,0,0,4,0,0,0,0,0,0],\n",
    "[5,0,0,0,0,0,0,4,2,0,0],\n",
    "[0,2,4,0,4,3,4,0,0,0,0],\n",
    "[0,3,5,1,0,0,4,1,0,0,0]\n",
    "])\n",
    "U,sigma,VT=np.linalg.svd(scoreData)\n",
    "print(sigma)"
   ]
  },
  {
   "cell_type": "code",
   "execution_count": null,
   "id": "e9084d8f",
   "metadata": {
    "ExecuteTime": {
     "end_time": "2022-08-10T14:56:19.830537Z",
     "start_time": "2022-08-10T14:56:19.816541Z"
    }
   },
   "outputs": [],
   "source": [
    "sigma.shape"
   ]
  },
  {
   "cell_type": "code",
   "execution_count": null,
   "id": "afed8ae6",
   "metadata": {
    "ExecuteTime": {
     "end_time": "2022-08-10T14:56:19.846533Z",
     "start_time": "2022-08-10T14:56:19.832538Z"
    }
   },
   "outputs": [],
   "source": [
    "np.sum(sigma)"
   ]
  },
  {
   "cell_type": "code",
   "execution_count": null,
   "id": "f2ee8eba",
   "metadata": {
    "ExecuteTime": {
     "end_time": "2022-08-10T14:56:19.862531Z",
     "start_time": "2022-08-10T14:56:19.848541Z"
    }
   },
   "outputs": [],
   "source": [
    "np.sum(sigma**2)"
   ]
  },
  {
   "cell_type": "code",
   "execution_count": null,
   "id": "134e4e13",
   "metadata": {
    "ExecuteTime": {
     "end_time": "2022-08-10T14:56:19.878539Z",
     "start_time": "2022-08-10T14:56:19.863535Z"
    }
   },
   "outputs": [],
   "source": [
    "sigmaSum=0\n",
    "for k in range(len(sigma)):\n",
    "    sigmaSum=sigmaSum+sigma[k]*sigma[k]\n",
    "    if float(sigmaSum)/float(np.sum(sigma**2))>0.9:\n",
    "        print(sigma[:k+1])\n",
    "        break"
   ]
  },
  {
   "cell_type": "code",
   "execution_count": null,
   "id": "37b940a8",
   "metadata": {
    "ExecuteTime": {
     "end_time": "2022-08-10T14:56:19.894536Z",
     "start_time": "2022-08-10T14:56:19.881536Z"
    }
   },
   "outputs": [],
   "source": [
    "sigmaSum=0\n",
    "for k in range(len(sigma)):\n",
    "    sigmaSum=sigmaSum+sigma[k]*sigma[k]\n",
    "    if float(sigmaSum)/float(np.sum(sigma**2))>0.9:\n",
    "        print(sigma[:k+1])\n",
    "        break"
   ]
  },
  {
   "cell_type": "code",
   "execution_count": null,
   "id": "475dbd5e",
   "metadata": {
    "ExecuteTime": {
     "end_time": "2022-08-10T14:56:19.910538Z",
     "start_time": "2022-08-10T14:56:19.895536Z"
    }
   },
   "outputs": [],
   "source": [
    "np.eye(6)"
   ]
  },
  {
   "cell_type": "code",
   "execution_count": null,
   "id": "f719cb3e",
   "metadata": {
    "ExecuteTime": {
     "end_time": "2022-08-10T14:56:19.926538Z",
     "start_time": "2022-08-10T14:56:19.912543Z"
    }
   },
   "outputs": [],
   "source": [
    "sigma_K=np.mat(np.eye(6)*sigma[:6])\n",
    "scoreDataRC=sigma_K*U.T[:6,:]*scoreData\n",
    "print(scoreDataRC)"
   ]
  },
  {
   "cell_type": "code",
   "execution_count": null,
   "id": "5e7dc9ba",
   "metadata": {
    "ExecuteTime": {
     "end_time": "2022-08-10T14:56:19.942534Z",
     "start_time": "2022-08-10T14:56:19.928536Z"
    }
   },
   "outputs": [],
   "source": [
    "def eatScore(scoreData,scoreDataRC,userIndex,itemIndex):\n",
    "    n=np.shape(scoreData)[1]\n",
    "    simSum=0\n",
    "    simSumScore=0\n",
    "    for i in range:\n",
    "        userScore=scoreData[userIndex,i]\n",
    "        if userScore==0 or i==itemIndex:\n",
    "            continue\n",
    "        sim=cosSim(scoreDataRC[:,i],scoreDataRC[:,itemIndex])\n",
    "        simSum=float(simSum+sim)\n",
    "        simSumScore=simSumScore+userScore*sim\n",
    "    if simSum==0:\n",
    "        return 0\n",
    "    return simSumScore/simSum"
   ]
  },
  {
   "cell_type": "code",
   "execution_count": null,
   "id": "4a3552e9",
   "metadata": {
    "ExecuteTime": {
     "end_time": "2022-08-10T14:56:19.958531Z",
     "start_time": "2022-08-10T14:56:19.944531Z"
    }
   },
   "outputs": [],
   "source": [
    "n=np.shape(scoreData)[1]\n",
    "userIndex=17\n",
    "\n",
    "for i in range(n):\n",
    "    userScore=scoreData[17,i]\n",
    "    if userScore!=0:\n",
    "        continue\n",
    "    print(\"index:{},score:{}\".format(i,estScore(scoreData,scoreDataRC,userIndex,i)))"
   ]
  },
  {
   "cell_type": "code",
   "execution_count": null,
   "id": "2cc1c9f4",
   "metadata": {
    "ExecuteTime": {
     "end_time": "2022-08-10T14:56:19.974532Z",
     "start_time": "2022-08-10T14:56:19.960531Z"
    }
   },
   "outputs": [],
   "source": [
    "# def imgCompress(channel,percent):\n",
    "#     U, sigma, V_T = np.linalg.svd(channel)\n",
    "#     m = U.shape[0]\n",
    "#     n = V_T.shape[0]\n",
    "#     reChannel = np.zeros((m,n))\n",
    "\n",
    "#     for k in range(len(sigma)):\n",
    "#         reChannel = reChannel + sigma[k]* np.dot(U[:,k].reshape(m,1),V_T[k,:].reshape(1,n))\n",
    "#         if float(k)/len(sigma) > percent:\n",
    "#             reChannel[reChannel < 0] = 0\n",
    "#             reChannel[reChannel > 255] = 255\n",
    "#             break\n",
    "\n",
    "#     return np.rint(reChannel).astype(\"uint8\")\n",
    "\n",
    "\n",
    "# oriImage = Image.open(r'test.png', 'r')\n",
    "# imgArray = np.array(oriImage)\n",
    "\n",
    "# R = imgArray[:, :, 0]\n",
    "# G = imgArray[:, :, 1]\n",
    "# B = imgArray[:, :, 2]\n",
    "# A = imgArray[:, :, 3]\n",
    "\n",
    "# for p in [0.001,0.005,0.01,0.02,0.03,0.04,0.05,0.1,0.2,0.3,0.4,0.5,0.6,0.7,0.8,0.9]:\n",
    "#     reR = imgCompress(R, p)\n",
    "#     reG = imgCompress(G, p)\n",
    "#     reB = imgCompress(B, p)\n",
    "#     reA = imgCompress(A, p)\n",
    "#     reI = np.stack((reR, reG, reB, reA), 2)\n",
    "\n",
    "#     Image.fromarray(reI).save(\"{}\".format(p)+\"img.png\")"
   ]
  },
  {
   "cell_type": "code",
   "execution_count": null,
   "id": "614e1db2",
   "metadata": {
    "ExecuteTime": {
     "end_time": "2022-08-10T14:56:20.022531Z",
     "start_time": "2022-08-10T14:56:19.976531Z"
    }
   },
   "outputs": [],
   "source": [
    "oriImage=Image.open(r'test.PNG','r')\n",
    "imgArray=np.array(oriImage)\n",
    "print(imgArray.shape)\n",
    "print(imgArray)"
   ]
  },
  {
   "cell_type": "code",
   "execution_count": null,
   "id": "18421287",
   "metadata": {
    "ExecuteTime": {
     "end_time": "2022-08-10T14:56:20.038538Z",
     "start_time": "2022-08-10T14:56:20.024534Z"
    },
    "scrolled": true
   },
   "outputs": [],
   "source": [
    "R=imgArray[:,:,0]\n",
    "G=imgArray[:,:,1]\n",
    "B=imgArray[:,:,2]\n",
    "A=imgArray[:,:,3]\n",
    "print(R)\n",
    "print(G)\n",
    "print(B)\n",
    "print(A)"
   ]
  },
  {
   "cell_type": "code",
   "execution_count": null,
   "id": "f96a8c8d",
   "metadata": {
    "ExecuteTime": {
     "end_time": "2022-08-10T14:56:20.054533Z",
     "start_time": "2022-08-10T14:56:20.040542Z"
    }
   },
   "outputs": [],
   "source": [
    "def imgCompress(channel,percent):\n",
    "    U,sigma,V_T=np.linalg.svd(channel)\n",
    "    m=U.shape[0]\n",
    "    n=V_T.shape[0]\n",
    "    reChannel=np.zeros((m,n))\n",
    "    for k in range(len(sigma)):\n",
    "        reChannel=reChannel+sigma[k]*np.dot(U[:,k].reshape(m,1),V_T[k,:].reshape(1,n))\n",
    "        if float(k)/len(sigma)>percent:\n",
    "            reChannel[reChannel>255]=255\n",
    "            reChannel[reChannel<0]=0\n",
    "            break\n",
    "    return np.rint(reChannel).astype('uint8')"
   ]
  },
  {
   "cell_type": "code",
   "execution_count": null,
   "id": "db56d7d9",
   "metadata": {
    "ExecuteTime": {
     "start_time": "2022-08-10T14:56:19.591Z"
    }
   },
   "outputs": [],
   "source": [
    "i=65\n",
    "for p in [0.001,0.005,0.01,0.02,0.03,0.04,0.05,0.1,0.2,0.3,0.4,0.5,0.6,0.7,0.8,0.9]:\n",
    "    reR=imgCompress(R,p)\n",
    "    reG=imgCompress(G,p)\n",
    "    reB=imgCompress(B,p)\n",
    "    reA=imgCompress(A,p)\n",
    "    reI=np.stack((reR,reG,reB,reA),2)\n",
    "    Image.fromarray(reI).save(\"{0}{1}\".format(chr(i),p)+\"img.png\")\n",
    "    i+=1"
   ]
  },
  {
   "cell_type": "code",
   "execution_count": null,
   "id": "06028f26",
   "metadata": {
    "ExecuteTime": {
     "start_time": "2022-08-10T14:56:19.611Z"
    }
   },
   "outputs": [],
   "source": [
    "def imgCompress(channel,percent):\n",
    "    U, sigma, V_T = np.linalg.svd(channel)\n",
    "    m = U.shape[0]\n",
    "    n = V_T.shape[0]\n",
    "    reChannel = np.zeros((m,n))\n",
    "\n",
    "    for k in range(len(sigma)):\n",
    "        reChannel = reChannel + sigma[k]* np.dot(U[:,k].reshape(m,1),V_T[k,:].reshape(1,n))\n",
    "        if float(k)/len(sigma) > percent:\n",
    "            reChannel[reChannel < 0] = 0\n",
    "            reChannel[reChannel > 255] = 255\n",
    "            break\n",
    "\n",
    "    return np.rint(reChannel).astype(\"uint8\")\n",
    "\n",
    "\n",
    "oriImage = Image.open(r'blackmamba.jpg', 'r')\n",
    "imgArray = np.array(oriImage)\n",
    "\n",
    "R = imgArray[:, :, 0]\n",
    "G = imgArray[:, :, 1]\n",
    "B = imgArray[:, :, 2]\n",
    "\n",
    "for p in [0.001,0.005,0.01,0.02,0.03,0.04,0.05,0.1,0.2,0.3,0.4,0.5,0.6,0.7,0.8,0.9]:\n",
    "    reR = imgCompress(R, p)\n",
    "    reG = imgCompress(G, p)\n",
    "    reB = imgCompress(B, p)\n",
    "    reI = np.stack((reR, reG, reB), 2)\n",
    "\n",
    "    Image.fromarray(reI).save(\"{}\".format(p)+\"blackmamba.png\")"
   ]
  },
  {
   "cell_type": "code",
   "execution_count": null,
   "id": "66d90bc2",
   "metadata": {},
   "outputs": [],
   "source": []
  }
 ],
 "metadata": {
  "hide_input": false,
  "kernelspec": {
   "display_name": "Python 3 (ipykernel)",
   "language": "python",
   "name": "python3"
  },
  "language_info": {
   "codemirror_mode": {
    "name": "ipython",
    "version": 3
   },
   "file_extension": ".py",
   "mimetype": "text/x-python",
   "name": "python",
   "nbconvert_exporter": "python",
   "pygments_lexer": "ipython3",
   "version": "3.9.12"
  },
  "nbTranslate": {
   "displayLangs": [
    "*"
   ],
   "hotkey": "alt-t",
   "langInMainMenu": true,
   "sourceLang": "en",
   "targetLang": "fr",
   "useGoogleTranslate": true
  },
  "toc": {
   "base_numbering": 1,
   "nav_menu": {},
   "number_sections": true,
   "sideBar": true,
   "skip_h1_title": false,
   "title_cell": "Table of Contents",
   "title_sidebar": "Contents",
   "toc_cell": false,
   "toc_position": {},
   "toc_section_display": true,
   "toc_window_display": false
  },
  "varInspector": {
   "cols": {
    "lenName": 16,
    "lenType": 16,
    "lenVar": 40
   },
   "kernels_config": {
    "python": {
     "delete_cmd_postfix": "",
     "delete_cmd_prefix": "del ",
     "library": "var_list.py",
     "varRefreshCmd": "print(var_dic_list())"
    },
    "r": {
     "delete_cmd_postfix": ") ",
     "delete_cmd_prefix": "rm(",
     "library": "var_list.r",
     "varRefreshCmd": "cat(var_dic_list()) "
    }
   },
   "types_to_exclude": [
    "module",
    "function",
    "builtin_function_or_method",
    "instance",
    "_Feature"
   ],
   "window_display": false
  }
 },
 "nbformat": 4,
 "nbformat_minor": 5
}
