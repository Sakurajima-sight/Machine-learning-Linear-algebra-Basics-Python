{
 "cells": [
  {
   "cell_type": "code",
   "execution_count": 1,
   "id": "ed3a99f3",
   "metadata": {
    "ExecuteTime": {
     "end_time": "2022-08-05T08:02:51.364228Z",
     "start_time": "2022-08-05T08:02:51.357230Z"
    }
   },
   "outputs": [
    {
     "name": "stdout",
     "output_type": "stream",
     "text": [
      "[1 2 3 4]\n"
     ]
    }
   ],
   "source": [
    "import numpy as np\n",
    "a=np.array([1,2,3,4])\n",
    "print(a)"
   ]
  },
  {
   "cell_type": "code",
   "execution_count": 2,
   "id": "ff02a73a",
   "metadata": {
    "ExecuteTime": {
     "end_time": "2022-08-05T08:03:19.245062Z",
     "start_time": "2022-08-05T08:03:19.225043Z"
    }
   },
   "outputs": [
    {
     "name": "stdout",
     "output_type": "stream",
     "text": [
      "[1 2 3 4]\n"
     ]
    }
   ],
   "source": [
    "import numpy as np\n",
    "a=np.array([1,2,3,4])\n",
    "print(a.transpose())"
   ]
  },
  {
   "cell_type": "code",
   "execution_count": 43,
   "id": "49fa8532",
   "metadata": {
    "ExecuteTime": {
     "end_time": "2022-08-05T09:43:24.244728Z",
     "start_time": "2022-08-05T09:43:24.236739Z"
    }
   },
   "outputs": [
    {
     "name": "stdout",
     "output_type": "stream",
     "text": [
      "[[1]\n",
      " [2]\n",
      " [3]\n",
      " [4]]\n",
      "(4, 1)\n"
     ]
    }
   ],
   "source": [
    "import numpy as np\n",
    "A=np.array([1,2,3,4])\n",
    "A_t=A[:,np.newaxis]\n",
    "print(A_t)\n",
    "print(A_t.shape)"
   ]
  },
  {
   "cell_type": "code",
   "execution_count": 9,
   "id": "1bfa7984",
   "metadata": {
    "ExecuteTime": {
     "end_time": "2022-08-05T08:06:35.422019Z",
     "start_time": "2022-08-05T08:06:35.410019Z"
    }
   },
   "outputs": [
    {
     "name": "stdout",
     "output_type": "stream",
     "text": [
      "[[1 2 3 4]]\n",
      "[[1]\n",
      " [2]\n",
      " [3]\n",
      " [4]]\n"
     ]
    }
   ],
   "source": [
    "import numpy as np\n",
    "A=np.array([[1,2,3,4]])\n",
    "print(A)\n",
    "print(A.T)"
   ]
  },
  {
   "cell_type": "code",
   "execution_count": 10,
   "id": "a3cbdc75",
   "metadata": {
    "ExecuteTime": {
     "end_time": "2022-08-05T08:07:56.131488Z",
     "start_time": "2022-08-05T08:07:56.124479Z"
    }
   },
   "outputs": [
    {
     "name": "stdout",
     "output_type": "stream",
     "text": [
      "[[ 6]\n",
      " [ 8]\n",
      " [10]]\n"
     ]
    }
   ],
   "source": [
    "u=np.array([[1,2,3]]).T\n",
    "v=np.array([[5,6,7]]).T\n",
    "print(u+v)"
   ]
  },
  {
   "cell_type": "code",
   "execution_count": 11,
   "id": "873a1a77",
   "metadata": {
    "ExecuteTime": {
     "end_time": "2022-08-05T08:08:12.776396Z",
     "start_time": "2022-08-05T08:08:12.769407Z"
    }
   },
   "outputs": [
    {
     "name": "stdout",
     "output_type": "stream",
     "text": [
      "[[3]\n",
      " [6]\n",
      " [9]]\n"
     ]
    }
   ],
   "source": [
    "u=np.array([[1,2,3]]).T\n",
    "print(u*3)"
   ]
  },
  {
   "cell_type": "code",
   "execution_count": 13,
   "id": "4e66fe00",
   "metadata": {
    "ExecuteTime": {
     "end_time": "2022-08-05T08:30:00.310953Z",
     "start_time": "2022-08-05T08:30:00.298950Z"
    }
   },
   "outputs": [
    {
     "name": "stdout",
     "output_type": "stream",
     "text": [
      "37\n"
     ]
    }
   ],
   "source": [
    "u=np.array([3,5,2])\n",
    "v=np.array([1,4,7])\n",
    "print(np.dot(u,v))"
   ]
  },
  {
   "cell_type": "code",
   "execution_count": 15,
   "id": "9276b88e",
   "metadata": {
    "ExecuteTime": {
     "end_time": "2022-08-05T08:31:49.519156Z",
     "start_time": "2022-08-05T08:31:49.511155Z"
    }
   },
   "outputs": [
    {
     "name": "stdout",
     "output_type": "stream",
     "text": [
      "[[37]]\n"
     ]
    }
   ],
   "source": [
    "u=np.array([[3,5,2]])\n",
    "v=np.array([[1,4,7]]).T\n",
    "print(np.dot(u,v))"
   ]
  },
  {
   "cell_type": "code",
   "execution_count": 16,
   "id": "a757be8e",
   "metadata": {
    "ExecuteTime": {
     "end_time": "2022-08-05T08:32:34.943379Z",
     "start_time": "2022-08-05T08:32:34.929358Z"
    }
   },
   "outputs": [
    {
     "name": "stdout",
     "output_type": "stream",
     "text": [
      "7\n"
     ]
    }
   ],
   "source": [
    "u=np.array([3,5])\n",
    "v=np.array([1,4])\n",
    "print(np.cross(u,v))"
   ]
  },
  {
   "cell_type": "code",
   "execution_count": 17,
   "id": "a7a42f40",
   "metadata": {
    "ExecuteTime": {
     "end_time": "2022-08-05T09:23:03.001219Z",
     "start_time": "2022-08-05T09:23:02.992218Z"
    }
   },
   "outputs": [
    {
     "name": "stdout",
     "output_type": "stream",
     "text": [
      "[  0 -27   9]\n"
     ]
    }
   ],
   "source": [
    "x=np.array([3,3,9])\n",
    "y=np.array([1,4,12])\n",
    "print(np.cross(x,y))"
   ]
  },
  {
   "cell_type": "code",
   "execution_count": 18,
   "id": "f394fb6a",
   "metadata": {
    "ExecuteTime": {
     "end_time": "2022-08-05T09:25:39.707617Z",
     "start_time": "2022-08-05T09:25:39.695608Z"
    }
   },
   "outputs": [
    {
     "name": "stdout",
     "output_type": "stream",
     "text": [
      "[[54]\n",
      " [66]\n",
      " [78]]\n"
     ]
    }
   ],
   "source": [
    "u=np.array([[1,2,3]]).T\n",
    "v=np.array([[4,5,6]]).T\n",
    "w=np.array([[7,8,9]]).T\n",
    "print(3*u+4*v+5*w)"
   ]
  },
  {
   "cell_type": "code",
   "execution_count": 31,
   "id": "ba8f1811",
   "metadata": {
    "ExecuteTime": {
     "end_time": "2022-08-05T09:27:31.291981Z",
     "start_time": "2022-08-05T09:27:31.280991Z"
    }
   },
   "outputs": [
    {
     "data": {
      "text/plain": [
       "array([[1],\n",
       "       [2],\n",
       "       [3]])"
      ]
     },
     "execution_count": 31,
     "metadata": {},
     "output_type": "execute_result"
    }
   ],
   "source": [
    "u=np.array([1,2,3])\n",
    "u.reshape(3,1)"
   ]
  },
  {
   "cell_type": "code",
   "execution_count": 33,
   "id": "c8297fd5",
   "metadata": {
    "ExecuteTime": {
     "end_time": "2022-08-05T09:28:34.567642Z",
     "start_time": "2022-08-05T09:28:34.551622Z"
    }
   },
   "outputs": [
    {
     "name": "stdout",
     "output_type": "stream",
     "text": [
      "[[1 2]\n",
      " [3 4]\n",
      " [5 6]\n",
      " [7 8]]\n",
      "(4, 2)\n"
     ]
    }
   ],
   "source": [
    "A=np.array([[1,2],\n",
    "           [3,4],\n",
    "           [5,6],\n",
    "           [7,8]])\n",
    "print(A)\n",
    "print(A.shape)"
   ]
  },
  {
   "cell_type": "code",
   "execution_count": 35,
   "id": "bd40eb5f",
   "metadata": {
    "ExecuteTime": {
     "end_time": "2022-08-05T09:31:33.421944Z",
     "start_time": "2022-08-05T09:31:33.403341Z"
    }
   },
   "outputs": [
    {
     "name": "stdout",
     "output_type": "stream",
     "text": [
      "[[1 1 1 1]\n",
      " [2 2 2 2]\n",
      " [3 3 3 3]\n",
      " [4 4 4 4]]\n",
      "(4, 4)\n"
     ]
    }
   ],
   "source": [
    "A=np.array([[1,1,1,1],\n",
    "           [2,2,2,2],\n",
    "           [3,3,3,3],\n",
    "           [4,4,4,4]])\n",
    "print(A)\n",
    "print(A.shape)"
   ]
  },
  {
   "cell_type": "code",
   "execution_count": 38,
   "id": "79ac001e",
   "metadata": {
    "ExecuteTime": {
     "end_time": "2022-08-05T09:37:33.735586Z",
     "start_time": "2022-08-05T09:37:33.727596Z"
    }
   },
   "outputs": [
    {
     "name": "stdout",
     "output_type": "stream",
     "text": [
      "[[1 2 3 4]\n",
      " [5 6 7 8]]\n",
      "[[1 5]\n",
      " [2 6]\n",
      " [3 7]\n",
      " [4 8]]\n"
     ]
    }
   ],
   "source": [
    "A=np.array([[1,2,3,4],\n",
    "           [5,6,7,8]])\n",
    "print(A)\n",
    "print(A.T)"
   ]
  },
  {
   "cell_type": "code",
   "execution_count": 39,
   "id": "14e72365",
   "metadata": {
    "ExecuteTime": {
     "end_time": "2022-08-05T09:38:48.869755Z",
     "start_time": "2022-08-05T09:38:48.862709Z"
    }
   },
   "outputs": [
    {
     "name": "stdout",
     "output_type": "stream",
     "text": [
      "[[1 2 3 4]\n",
      " [2 5 6 7]\n",
      " [3 6 8 9]\n",
      " [4 7 9 0]]\n",
      "[[1 2 3 4]\n",
      " [2 5 6 7]\n",
      " [3 6 8 9]\n",
      " [4 7 9 0]]\n"
     ]
    }
   ],
   "source": [
    "S=np.array([[1,2,3,4],\n",
    "           [2,5,6,7],\n",
    "           [3,6,8,9],\n",
    "           [4,7,9,0]])\n",
    "print(S)\n",
    "print(S.T)"
   ]
  },
  {
   "cell_type": "code",
   "execution_count": 40,
   "id": "d7849623",
   "metadata": {
    "ExecuteTime": {
     "end_time": "2022-08-05T09:39:43.283911Z",
     "start_time": "2022-08-05T09:39:43.276905Z"
    }
   },
   "outputs": [
    {
     "name": "stdout",
     "output_type": "stream",
     "text": [
      "[[0. 0. 0.]\n",
      " [0. 0. 0.]\n",
      " [0. 0. 0.]\n",
      " [0. 0. 0.]\n",
      " [0. 0. 0.]]\n"
     ]
    }
   ],
   "source": [
    "A=np.zeros([5,3])\n",
    "print(A)"
   ]
  },
  {
   "cell_type": "code",
   "execution_count": 41,
   "id": "94bf4810",
   "metadata": {
    "ExecuteTime": {
     "end_time": "2022-08-05T09:40:48.631234Z",
     "start_time": "2022-08-05T09:40:48.622216Z"
    }
   },
   "outputs": [
    {
     "name": "stdout",
     "output_type": "stream",
     "text": [
      "[[1 0 0 0 0]\n",
      " [0 2 0 0 0]\n",
      " [0 0 3 0 0]\n",
      " [0 0 0 4 0]\n",
      " [0 0 0 0 5]]\n"
     ]
    }
   ],
   "source": [
    "A=np.diag([1,2,3,4,5])\n",
    "print(A)"
   ]
  },
  {
   "cell_type": "code",
   "execution_count": 42,
   "id": "0f268188",
   "metadata": {
    "ExecuteTime": {
     "end_time": "2022-08-05T09:41:41.202358Z",
     "start_time": "2022-08-05T09:41:41.193338Z"
    }
   },
   "outputs": [
    {
     "name": "stdout",
     "output_type": "stream",
     "text": [
      "[[1. 0. 0. 0. 0.]\n",
      " [0. 1. 0. 0. 0.]\n",
      " [0. 0. 1. 0. 0.]\n",
      " [0. 0. 0. 1. 0.]\n",
      " [0. 0. 0. 0. 1.]]\n"
     ]
    }
   ],
   "source": [
    "I=np.eye(5)\n",
    "print(I)"
   ]
  },
  {
   "cell_type": "code",
   "execution_count": 44,
   "id": "aa8cbd27",
   "metadata": {
    "ExecuteTime": {
     "end_time": "2022-08-05T09:43:47.446529Z",
     "start_time": "2022-08-05T09:43:47.433507Z"
    }
   },
   "outputs": [
    {
     "name": "stdout",
     "output_type": "stream",
     "text": [
      "[[1 2 3 4]]\n",
      "[[1]\n",
      " [2]\n",
      " [3]\n",
      " [4]]\n"
     ]
    }
   ],
   "source": [
    "p=np.array([[1,2,3,4]])\n",
    "print(p)\n",
    "print(p.T)"
   ]
  },
  {
   "cell_type": "code",
   "execution_count": 46,
   "id": "85422680",
   "metadata": {
    "ExecuteTime": {
     "end_time": "2022-08-05T09:46:31.579378Z",
     "start_time": "2022-08-05T09:46:31.571359Z"
    }
   },
   "outputs": [
    {
     "name": "stdout",
     "output_type": "stream",
     "text": [
      "[[11 22]\n",
      " [33 44]\n",
      " [55 66]]\n"
     ]
    }
   ],
   "source": [
    "A=np.array([[1,2],\n",
    "            [3,4],\n",
    "           [5,6]])\n",
    "B=np.array([[10,20],\n",
    "            [30,40],\n",
    "           [50,60]])\n",
    "print(A+B)"
   ]
  },
  {
   "cell_type": "code",
   "execution_count": 48,
   "id": "a5f7cc58",
   "metadata": {
    "ExecuteTime": {
     "end_time": "2022-08-05T09:47:28.844026Z",
     "start_time": "2022-08-05T09:47:28.837031Z"
    }
   },
   "outputs": [
    {
     "name": "stdout",
     "output_type": "stream",
     "text": [
      "[[ 2  8]\n",
      " [ 4 10]\n",
      " [ 6 12]]\n"
     ]
    }
   ],
   "source": [
    "A=np.array([[1,4],\n",
    "            [2,5],\n",
    "           [3,6]])\n",
    "print(A*2)"
   ]
  },
  {
   "cell_type": "code",
   "execution_count": 49,
   "id": "b2db88fe",
   "metadata": {
    "ExecuteTime": {
     "end_time": "2022-08-05T09:49:27.958598Z",
     "start_time": "2022-08-05T09:49:27.948600Z"
    }
   },
   "outputs": [
    {
     "name": "stdout",
     "output_type": "stream",
     "text": [
      "[[ 14  17  20  23]\n",
      " [ 30  37  44  51]\n",
      " [ 46  57  68  79]\n",
      " [ 62  77  92 107]]\n"
     ]
    }
   ],
   "source": [
    "A=np.array([[1,2],\n",
    "            [3,4],\n",
    "           [5,6],\n",
    "           [7,8]])\n",
    "B=np.array([[2,3,4,5],\n",
    "           [6,7,8,9]])\n",
    "print(np.dot(A,B))"
   ]
  },
  {
   "cell_type": "code",
   "execution_count": 50,
   "id": "d8c17cc9",
   "metadata": {
    "ExecuteTime": {
     "end_time": "2022-08-05T10:02:02.871372Z",
     "start_time": "2022-08-05T10:02:02.860365Z"
    }
   },
   "outputs": [
    {
     "name": "stdout",
     "output_type": "stream",
     "text": [
      "[[14]\n",
      " [32]\n",
      " [50]]\n"
     ]
    }
   ],
   "source": [
    "A=np.array([[1,2],\n",
    "            [3,4],\n",
    "           [5,6]])\n",
    "x=np.array([[4,5]]).T\n",
    "print(np.dot(A,x))"
   ]
  },
  {
   "cell_type": "code",
   "execution_count": null,
   "id": "cc5d62e3",
   "metadata": {},
   "outputs": [],
   "source": []
  }
 ],
 "metadata": {
  "hide_input": false,
  "kernelspec": {
   "display_name": "Python 3 (ipykernel)",
   "language": "python",
   "name": "python3"
  },
  "language_info": {
   "codemirror_mode": {
    "name": "ipython",
    "version": 3
   },
   "file_extension": ".py",
   "mimetype": "text/x-python",
   "name": "python",
   "nbconvert_exporter": "python",
   "pygments_lexer": "ipython3",
   "version": "3.9.12"
  },
  "nbTranslate": {
   "displayLangs": [
    "*"
   ],
   "hotkey": "alt-t",
   "langInMainMenu": true,
   "sourceLang": "en",
   "targetLang": "fr",
   "useGoogleTranslate": true
  },
  "toc": {
   "base_numbering": 1,
   "nav_menu": {},
   "number_sections": true,
   "sideBar": true,
   "skip_h1_title": false,
   "title_cell": "Table of Contents",
   "title_sidebar": "Contents",
   "toc_cell": false,
   "toc_position": {},
   "toc_section_display": true,
   "toc_window_display": false
  },
  "varInspector": {
   "cols": {
    "lenName": 16,
    "lenType": 16,
    "lenVar": 40
   },
   "kernels_config": {
    "python": {
     "delete_cmd_postfix": "",
     "delete_cmd_prefix": "del ",
     "library": "var_list.py",
     "varRefreshCmd": "print(var_dic_list())"
    },
    "r": {
     "delete_cmd_postfix": ") ",
     "delete_cmd_prefix": "rm(",
     "library": "var_list.r",
     "varRefreshCmd": "cat(var_dic_list()) "
    }
   },
   "types_to_exclude": [
    "module",
    "function",
    "builtin_function_or_method",
    "instance",
    "_Feature"
   ],
   "window_display": false
  }
 },
 "nbformat": 4,
 "nbformat_minor": 5
}
