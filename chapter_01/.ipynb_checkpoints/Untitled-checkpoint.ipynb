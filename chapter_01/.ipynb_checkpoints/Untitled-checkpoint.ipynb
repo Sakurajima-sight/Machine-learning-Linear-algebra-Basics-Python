{
 "cells": [
  {
   "cell_type": "code",
   "execution_count": 1,
   "id": "081fa04d",
   "metadata": {
    "ExecuteTime": {
     "end_time": "2022-08-05T08:02:51.364228Z",
     "start_time": "2022-08-05T08:02:51.357230Z"
    }
   },
   "outputs": [
    {
     "name": "stdout",
     "output_type": "stream",
     "text": [
      "[1 2 3 4]\n"
     ]
    }
   ],
   "source": [
    "import numpy as np\n",
    "a=np.array([1,2,3,4])\n",
    "print(a)"
   ]
  },
  {
   "cell_type": "code",
   "execution_count": 2,
   "id": "03655d88",
   "metadata": {
    "ExecuteTime": {
     "end_time": "2022-08-05T08:03:19.245062Z",
     "start_time": "2022-08-05T08:03:19.225043Z"
    }
   },
   "outputs": [
    {
     "name": "stdout",
     "output_type": "stream",
     "text": [
      "[1 2 3 4]\n"
     ]
    }
   ],
   "source": [
    "import numpy as np\n",
    "a=np.array([1,2,3,4])\n",
    "print(a.transpose())"
   ]
  },
  {
   "cell_type": "code",
   "execution_count": 8,
   "id": "5823567f",
   "metadata": {
    "ExecuteTime": {
     "end_time": "2022-08-05T08:05:37.575120Z",
     "start_time": "2022-08-05T08:05:37.552142Z"
    }
   },
   "outputs": [
    {
     "ename": "IndexError",
     "evalue": "too many indices for array: array is 1-dimensional, but 2 were indexed",
     "output_type": "error",
     "traceback": [
      "\u001b[1;31m---------------------------------------------------------------------------\u001b[0m",
      "\u001b[1;31mIndexError\u001b[0m                                Traceback (most recent call last)",
      "Input \u001b[1;32mIn [8]\u001b[0m, in \u001b[0;36m<cell line: 3>\u001b[1;34m()\u001b[0m\n\u001b[0;32m      1\u001b[0m \u001b[38;5;28;01mimport\u001b[39;00m \u001b[38;5;21;01mnumpy\u001b[39;00m \u001b[38;5;28;01mas\u001b[39;00m \u001b[38;5;21;01mnp\u001b[39;00m\n\u001b[0;32m      2\u001b[0m A\u001b[38;5;241m=\u001b[39mnp\u001b[38;5;241m.\u001b[39marray([\u001b[38;5;241m1\u001b[39m,\u001b[38;5;241m2\u001b[39m,\u001b[38;5;241m3\u001b[39m,\u001b[38;5;241m4\u001b[39m])\n\u001b[1;32m----> 3\u001b[0m A_t\u001b[38;5;241m=\u001b[39m\u001b[43mA\u001b[49m\u001b[43m[\u001b[49m\u001b[43m:\u001b[49m\u001b[43m,\u001b[49m\u001b[38;5;241;43m-\u001b[39;49m\u001b[38;5;241;43m1\u001b[39;49m\u001b[43m]\u001b[49m\n\u001b[0;32m      4\u001b[0m \u001b[38;5;28mprint\u001b[39m(A_t)\n\u001b[0;32m      5\u001b[0m \u001b[38;5;28mprint\u001b[39m(A_t\u001b[38;5;241m.\u001b[39mshape)\n",
      "\u001b[1;31mIndexError\u001b[0m: too many indices for array: array is 1-dimensional, but 2 were indexed"
     ]
    }
   ],
   "source": [
    "import numpy as np\n",
    "A=np.array([1,2,3,4])\n",
    "A_t=A[:,np.newaxis]\n",
    "print(A_t)\n",
    "print(A_t.shape)"
   ]
  },
  {
   "cell_type": "code",
   "execution_count": 9,
   "id": "d3e0436f",
   "metadata": {
    "ExecuteTime": {
     "end_time": "2022-08-05T08:06:35.422019Z",
     "start_time": "2022-08-05T08:06:35.410019Z"
    }
   },
   "outputs": [
    {
     "name": "stdout",
     "output_type": "stream",
     "text": [
      "[[1 2 3 4]]\n",
      "[[1]\n",
      " [2]\n",
      " [3]\n",
      " [4]]\n"
     ]
    }
   ],
   "source": [
    "import numpy as np\n",
    "A=np.array([[1,2,3,4]])\n",
    "print(A)\n",
    "print(A.T)"
   ]
  },
  {
   "cell_type": "code",
   "execution_count": 10,
   "id": "0997a1a8",
   "metadata": {
    "ExecuteTime": {
     "end_time": "2022-08-05T08:07:56.131488Z",
     "start_time": "2022-08-05T08:07:56.124479Z"
    }
   },
   "outputs": [
    {
     "name": "stdout",
     "output_type": "stream",
     "text": [
      "[[ 6]\n",
      " [ 8]\n",
      " [10]]\n"
     ]
    }
   ],
   "source": [
    "u=np.array([[1,2,3]]).T\n",
    "v=np.array([[5,6,7]]).T\n",
    "print(u+v)"
   ]
  },
  {
   "cell_type": "code",
   "execution_count": 11,
   "id": "c8b5b812",
   "metadata": {
    "ExecuteTime": {
     "end_time": "2022-08-05T08:08:12.776396Z",
     "start_time": "2022-08-05T08:08:12.769407Z"
    }
   },
   "outputs": [
    {
     "name": "stdout",
     "output_type": "stream",
     "text": [
      "[[3]\n",
      " [6]\n",
      " [9]]\n"
     ]
    }
   ],
   "source": [
    "u=np.array([[1,2,3]]).T\n",
    "print(u*3)"
   ]
  },
  {
   "cell_type": "code",
   "execution_count": 13,
   "id": "5181ad9e",
   "metadata": {
    "ExecuteTime": {
     "end_time": "2022-08-05T08:30:00.310953Z",
     "start_time": "2022-08-05T08:30:00.298950Z"
    }
   },
   "outputs": [
    {
     "name": "stdout",
     "output_type": "stream",
     "text": [
      "37\n"
     ]
    }
   ],
   "source": [
    "u=np.array([3,5,2])\n",
    "v=np.array([1,4,7])\n",
    "print(np.dot(u,v))"
   ]
  },
  {
   "cell_type": "code",
   "execution_count": 15,
   "id": "449d4766",
   "metadata": {
    "ExecuteTime": {
     "end_time": "2022-08-05T08:31:49.519156Z",
     "start_time": "2022-08-05T08:31:49.511155Z"
    }
   },
   "outputs": [
    {
     "name": "stdout",
     "output_type": "stream",
     "text": [
      "[[37]]\n"
     ]
    }
   ],
   "source": [
    "u=np.array([[3,5,2]])\n",
    "v=np.array([[1,4,7]]).T\n",
    "print(np.dot(u,v))"
   ]
  },
  {
   "cell_type": "code",
   "execution_count": 16,
   "id": "c9914782",
   "metadata": {
    "ExecuteTime": {
     "end_time": "2022-08-05T08:32:34.943379Z",
     "start_time": "2022-08-05T08:32:34.929358Z"
    }
   },
   "outputs": [
    {
     "name": "stdout",
     "output_type": "stream",
     "text": [
      "7\n"
     ]
    }
   ],
   "source": [
    "u=np.array([3,5])\n",
    "v=np.array([1,4])\n",
    "print(np.cross(u,v))"
   ]
  },
  {
   "cell_type": "code",
   "execution_count": 17,
   "id": "5ebed941",
   "metadata": {
    "ExecuteTime": {
     "end_time": "2022-08-05T09:23:03.001219Z",
     "start_time": "2022-08-05T09:23:02.992218Z"
    }
   },
   "outputs": [
    {
     "name": "stdout",
     "output_type": "stream",
     "text": [
      "[  0 -27   9]\n"
     ]
    }
   ],
   "source": [
    "x=np.array([3,3,9])\n",
    "y=np.array([1,4,12])\n",
    "print(np.cross(x,y))"
   ]
  },
  {
   "cell_type": "code",
   "execution_count": 18,
   "id": "b3552260",
   "metadata": {
    "ExecuteTime": {
     "end_time": "2022-08-05T09:25:39.707617Z",
     "start_time": "2022-08-05T09:25:39.695608Z"
    }
   },
   "outputs": [
    {
     "name": "stdout",
     "output_type": "stream",
     "text": [
      "[[54]\n",
      " [66]\n",
      " [78]]\n"
     ]
    }
   ],
   "source": [
    "u=np.array([[1,2,3]]).T\n",
    "v=np.array([[4,5,6]]).T\n",
    "w=np.array([[7,8,9]]).T\n",
    "print(3*u+4*v+5*w)"
   ]
  },
  {
   "cell_type": "code",
   "execution_count": 31,
   "id": "45da2cc1",
   "metadata": {
    "ExecuteTime": {
     "end_time": "2022-08-05T09:27:31.291981Z",
     "start_time": "2022-08-05T09:27:31.280991Z"
    }
   },
   "outputs": [
    {
     "data": {
      "text/plain": [
       "array([[1],\n",
       "       [2],\n",
       "       [3]])"
      ]
     },
     "execution_count": 31,
     "metadata": {},
     "output_type": "execute_result"
    }
   ],
   "source": [
    "u=np.array([1,2,3])\n",
    "u.reshape(3,1)"
   ]
  },
  {
   "cell_type": "code",
   "execution_count": 33,
   "id": "b679164a",
   "metadata": {
    "ExecuteTime": {
     "end_time": "2022-08-05T09:28:34.567642Z",
     "start_time": "2022-08-05T09:28:34.551622Z"
    }
   },
   "outputs": [
    {
     "name": "stdout",
     "output_type": "stream",
     "text": [
      "[[1 2]\n",
      " [3 4]\n",
      " [5 6]\n",
      " [7 8]]\n",
      "(4, 2)\n"
     ]
    }
   ],
   "source": [
    "A=np.array([[1,2],\n",
    "           [3,4],\n",
    "           [5,6],\n",
    "           [7,8]])\n",
    "print(A)\n",
    "print(A.shape)"
   ]
  },
  {
   "cell_type": "code",
   "execution_count": 35,
   "id": "31d4b856",
   "metadata": {
    "ExecuteTime": {
     "end_time": "2022-08-05T09:31:33.421944Z",
     "start_time": "2022-08-05T09:31:33.403341Z"
    }
   },
   "outputs": [
    {
     "name": "stdout",
     "output_type": "stream",
     "text": [
      "[[1 1 1 1]\n",
      " [2 2 2 2]\n",
      " [3 3 3 3]\n",
      " [4 4 4 4]]\n",
      "(4, 4)\n"
     ]
    }
   ],
   "source": [
    "A=np.array([[1,1,1,1],\n",
    "           [2,2,2,2],\n",
    "           [3,3,3,3],\n",
    "           [4,4,4,4]])\n",
    "print(A)\n",
    "print(A.shape)"
   ]
  },
  {
   "cell_type": "code",
   "execution_count": 38,
   "id": "d2653fb6",
   "metadata": {
    "ExecuteTime": {
     "end_time": "2022-08-05T09:37:33.735586Z",
     "start_time": "2022-08-05T09:37:33.727596Z"
    }
   },
   "outputs": [
    {
     "name": "stdout",
     "output_type": "stream",
     "text": [
      "[[1 2 3 4]\n",
      " [5 6 7 8]]\n",
      "[[1 5]\n",
      " [2 6]\n",
      " [3 7]\n",
      " [4 8]]\n"
     ]
    }
   ],
   "source": [
    "A=np.array([[1,2,3,4],\n",
    "           [5,6,7,8]])\n",
    "print(A)\n",
    "print(A.T)"
   ]
  },
  {
   "cell_type": "code",
   "execution_count": 39,
   "id": "9a68b4b6",
   "metadata": {
    "ExecuteTime": {
     "end_time": "2022-08-05T09:38:48.869755Z",
     "start_time": "2022-08-05T09:38:48.862709Z"
    }
   },
   "outputs": [
    {
     "name": "stdout",
     "output_type": "stream",
     "text": [
      "[[1 2 3 4]\n",
      " [2 5 6 7]\n",
      " [3 6 8 9]\n",
      " [4 7 9 0]]\n",
      "[[1 2 3 4]\n",
      " [2 5 6 7]\n",
      " [3 6 8 9]\n",
      " [4 7 9 0]]\n"
     ]
    }
   ],
   "source": [
    "S=np.array([[1,2,3,4],\n",
    "           [2,5,6,7],\n",
    "           [3,6,8,9],\n",
    "           [4,7,9,0]])\n",
    "print(S)\n",
    "print(S.T)"
   ]
  },
  {
   "cell_type": "code",
   "execution_count": 40,
   "id": "c5eabe19",
   "metadata": {
    "ExecuteTime": {
     "end_time": "2022-08-05T09:39:43.283911Z",
     "start_time": "2022-08-05T09:39:43.276905Z"
    }
   },
   "outputs": [
    {
     "name": "stdout",
     "output_type": "stream",
     "text": [
      "[[0. 0. 0.]\n",
      " [0. 0. 0.]\n",
      " [0. 0. 0.]\n",
      " [0. 0. 0.]\n",
      " [0. 0. 0.]]\n"
     ]
    }
   ],
   "source": [
    "A=np.zeros([5,3])\n",
    "print(A)"
   ]
  },
  {
   "cell_type": "code",
   "execution_count": null,
   "id": "9365c387",
   "metadata": {},
   "outputs": [],
   "source": []
  }
 ],
 "metadata": {
  "hide_input": false,
  "kernelspec": {
   "display_name": "Python 3 (ipykernel)",
   "language": "python",
   "name": "python3"
  },
  "language_info": {
   "codemirror_mode": {
    "name": "ipython",
    "version": 3
   },
   "file_extension": ".py",
   "mimetype": "text/x-python",
   "name": "python",
   "nbconvert_exporter": "python",
   "pygments_lexer": "ipython3",
   "version": "3.9.12"
  },
  "nbTranslate": {
   "displayLangs": [
    "*"
   ],
   "hotkey": "alt-t",
   "langInMainMenu": true,
   "sourceLang": "en",
   "targetLang": "fr",
   "useGoogleTranslate": true
  },
  "toc": {
   "base_numbering": 1,
   "nav_menu": {},
   "number_sections": true,
   "sideBar": true,
   "skip_h1_title": false,
   "title_cell": "Table of Contents",
   "title_sidebar": "Contents",
   "toc_cell": false,
   "toc_position": {},
   "toc_section_display": true,
   "toc_window_display": false
  },
  "varInspector": {
   "cols": {
    "lenName": 16,
    "lenType": 16,
    "lenVar": 40
   },
   "kernels_config": {
    "python": {
     "delete_cmd_postfix": "",
     "delete_cmd_prefix": "del ",
     "library": "var_list.py",
     "varRefreshCmd": "print(var_dic_list())"
    },
    "r": {
     "delete_cmd_postfix": ") ",
     "delete_cmd_prefix": "rm(",
     "library": "var_list.r",
     "varRefreshCmd": "cat(var_dic_list()) "
    }
   },
   "types_to_exclude": [
    "module",
    "function",
    "builtin_function_or_method",
    "instance",
    "_Feature"
   ],
   "window_display": false
  }
 },
 "nbformat": 4,
 "nbformat_minor": 5
}
