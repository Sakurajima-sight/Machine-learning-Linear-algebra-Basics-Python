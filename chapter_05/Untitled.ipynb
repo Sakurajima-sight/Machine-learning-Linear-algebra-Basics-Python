{
 "cells": [
  {
   "cell_type": "code",
   "execution_count": 1,
   "id": "5bd1be38",
   "metadata": {
    "ExecuteTime": {
     "end_time": "2022-08-10T09:10:20.788745Z",
     "start_time": "2022-08-10T09:10:20.599275Z"
    }
   },
   "outputs": [],
   "source": [
    "import numpy as np\n",
    "from scipy import linalg"
   ]
  },
  {
   "cell_type": "code",
   "execution_count": 2,
   "id": "52de2d8d",
   "metadata": {
    "ExecuteTime": {
     "end_time": "2022-08-10T09:10:20.804765Z",
     "start_time": "2022-08-10T09:10:20.790741Z"
    }
   },
   "outputs": [
    {
     "name": "stdout",
     "output_type": "stream",
     "text": [
      "79.1 80.6 80.1\n",
      "54.98888888888888 188.04444444444442 181.87777777777777\n"
     ]
    }
   ],
   "source": [
    "eng,mat,phy=np.loadtxt('score.csv',delimiter=',',usecols=(0,1,2),unpack=True)\n",
    "print(eng.mean(),mat.mean(),phy.mean())\n",
    "print(np.cov(eng),np.cov(mat),np.cov(phy))"
   ]
  },
  {
   "cell_type": "code",
   "execution_count": 3,
   "id": "d4b06b29",
   "metadata": {
    "ExecuteTime": {
     "end_time": "2022-08-10T09:10:20.820756Z",
     "start_time": "2022-08-10T09:10:20.806739Z"
    }
   },
   "outputs": [
    {
     "name": "stdout",
     "output_type": "stream",
     "text": [
      "[[ 54.98888889  70.82222222  56.76666667]\n",
      " [ 70.82222222 188.04444444 175.15555556]\n",
      " [ 56.76666667 175.15555556 181.87777778]]\n"
     ]
    }
   ],
   "source": [
    "eng,mat,phy=np.loadtxt('score.csv',delimiter=',',usecols=(0,1,2),unpack=True)\n",
    "S=np.vstack((eng,mat,phy))\n",
    "print(np.cov(S))"
   ]
  },
  {
   "cell_type": "code",
   "execution_count": 4,
   "id": "48824b76",
   "metadata": {
    "ExecuteTime": {
     "end_time": "2022-08-10T09:10:20.836765Z",
     "start_time": "2022-08-10T09:10:20.821759Z"
    }
   },
   "outputs": [
    {
     "name": "stdout",
     "output_type": "stream",
     "text": [
      "[[6. 4.]\n",
      " [4. 6.]]\n"
     ]
    }
   ],
   "source": [
    "x=[2,2,4,8,4]\n",
    "y=[2,6,6,8,8]\n",
    "S=np.vstack((x,y))\n",
    "print(np.cov(S))"
   ]
  },
  {
   "cell_type": "code",
   "execution_count": 5,
   "id": "cb42c5de",
   "metadata": {
    "ExecuteTime": {
     "end_time": "2022-08-10T09:10:20.852756Z",
     "start_time": "2022-08-10T09:10:20.838747Z"
    }
   },
   "outputs": [
    {
     "name": "stdout",
     "output_type": "stream",
     "text": [
      "[[-2. -2.  0.  4.  0.]\n",
      " [-4.  0.  0.  2.  2.]]\n",
      "[[6. 4.]\n",
      " [4. 6.]]\n"
     ]
    }
   ],
   "source": [
    "x=[2,2,4,8,4]\n",
    "y=[2,6,6,8,8]\n",
    "x=x-np.mean(x)\n",
    "y=y-np.mean(y)\n",
    "S=np.vstack((x,y))\n",
    "print(S)\n",
    "print(np.cov(S))"
   ]
  },
  {
   "cell_type": "code",
   "execution_count": 6,
   "id": "7f59a4a2",
   "metadata": {
    "ExecuteTime": {
     "end_time": "2022-08-10T09:10:20.868755Z",
     "start_time": "2022-08-10T09:10:20.854738Z"
    }
   },
   "outputs": [
    {
     "name": "stdout",
     "output_type": "stream",
     "text": [
      "[10.+0.j  2.+0.j]\n",
      "[[ 0.70710678 -0.70710678]\n",
      " [ 0.70710678  0.70710678]]\n"
     ]
    }
   ],
   "source": [
    "C=np.array([[6,4],\n",
    "           [4,6]])\n",
    "evalue,evector=linalg.eig(C)\n",
    "print(evalue)\n",
    "print(evector)"
   ]
  },
  {
   "cell_type": "code",
   "execution_count": 7,
   "id": "46f5cc64",
   "metadata": {
    "ExecuteTime": {
     "end_time": "2022-08-10T09:10:20.884745Z",
     "start_time": "2022-08-10T09:10:20.870739Z"
    }
   },
   "outputs": [
    {
     "name": "stdout",
     "output_type": "stream",
     "text": [
      "[[-2. -2.  0.  4.  0.]\n",
      " [-4.  0.  0.  2.  2.]]\n",
      "[[-4.242 -1.414  0.     4.242  1.414]\n",
      " [-1.414  1.414  0.    -1.414  1.414]]\n"
     ]
    }
   ],
   "source": [
    "x=[2,2,4,8,4]\n",
    "y=[2,6,6,8,8]\n",
    "x=x-np.mean(x)\n",
    "y=y-np.mean(y)\n",
    "A=np.vstack((x,y))\n",
    "p_1=[0.707,0.707]\n",
    "p_2=[-0.707,0.707]\n",
    "P=np.vstack((p_1,p_2))\n",
    "print(A)\n",
    "print(np.dot(P,A))"
   ]
  },
  {
   "cell_type": "code",
   "execution_count": 8,
   "id": "562aaf2d",
   "metadata": {
    "ExecuteTime": {
     "end_time": "2022-08-10T09:10:20.900745Z",
     "start_time": "2022-08-10T09:10:20.886758Z"
    },
    "scrolled": true
   },
   "outputs": [
    {
     "name": "stdout",
     "output_type": "stream",
     "text": [
      "[[ 1.24153973e-16 -5.34522484e-01  8.37807144e-01 -6.21797365e-02\n",
      "  -6.15166652e-02  6.14119433e-02  3.07059717e-02]\n",
      " [ 1.38448957e-32 -8.01783726e-01 -4.85697270e-01  3.48196811e-01\n",
      "  -1.70447338e-17 -5.55111512e-17  0.00000000e+00]\n",
      " [ 0.00000000e+00 -2.67261242e-01 -2.18522479e-01 -9.20230960e-01\n",
      "   1.23033330e-01 -1.22823887e-01 -6.14119433e-02]\n",
      " [-1.79605302e-01 -2.05774198e-17 -4.40327302e-02 -6.14209440e-02\n",
      "  -9.19287207e-01 -3.05864745e-01 -1.52932373e-01]\n",
      " [-3.59210604e-01  2.46872204e-17 -8.80654604e-02 -1.22841888e-01\n",
      "  -2.06818517e-01  8.95901251e-01 -5.20493747e-02]\n",
      " [-8.98026510e-01 -2.34936928e-17  5.28392762e-02  7.37051328e-02\n",
      "   2.87266700e-01 -2.86777676e-01 -1.43388838e-01]\n",
      " [-1.79605302e-01  1.23436102e-17 -4.40327302e-02 -6.14209440e-02\n",
      "  -1.03409259e-01 -5.20493747e-02  9.73975313e-01]]\n",
      "[9.64365076e+00 5.29150262e+00 8.10743804e-16 8.49555901e-17\n",
      " 7.85046229e-17]\n",
      "[[-5.77350269e-01 -5.77350269e-01 -5.77350269e-01  0.00000000e+00\n",
      "   0.00000000e+00]\n",
      " [-2.46566547e-16  1.23283273e-16  1.23283273e-16 -7.07106781e-01\n",
      "  -7.07106781e-01]\n",
      " [ 7.23982597e-01 -6.88926918e-01 -3.50556793e-02 -3.33066907e-16\n",
      "  -2.77555756e-16]\n",
      " [-3.77512736e-01 -4.38230953e-01  8.15743689e-01 -1.11022302e-16\n",
      "   0.00000000e+00]\n",
      " [-0.00000000e+00 -7.85046229e-17  7.85046229e-17  7.07106781e-01\n",
      "  -7.07106781e-01]]\n"
     ]
    }
   ],
   "source": [
    "A=[[0,0,0,2,2],\n",
    "  [0,0,0,3,3],\n",
    "  [0,0,0,1,1],\n",
    "  [1,1,1,0,0],\n",
    "  [2,2,2,0,0],\n",
    "  [5,5,5,0,0],\n",
    "  [1,1,1,0,0]]\n",
    "\n",
    "U,sigma,VT=np.linalg.svd(A)\n",
    "print(U)\n",
    "print(sigma)\n",
    "print(VT)"
   ]
  },
  {
   "cell_type": "code",
   "execution_count": 9,
   "id": "7fb5b773",
   "metadata": {
    "ExecuteTime": {
     "end_time": "2022-08-10T09:10:20.915741Z",
     "start_time": "2022-08-10T09:10:20.902756Z"
    }
   },
   "outputs": [
    {
     "data": {
      "text/plain": [
       "(7, 7)"
      ]
     },
     "execution_count": 9,
     "metadata": {},
     "output_type": "execute_result"
    }
   ],
   "source": [
    "U.shape"
   ]
  },
  {
   "cell_type": "code",
   "execution_count": 10,
   "id": "548f59d6",
   "metadata": {
    "ExecuteTime": {
     "end_time": "2022-08-10T09:10:20.931744Z",
     "start_time": "2022-08-10T09:10:20.918749Z"
    },
    "scrolled": true
   },
   "outputs": [
    {
     "name": "stdout",
     "output_type": "stream",
     "text": [
      "[[-5.56776436e+00 -5.56776436e+00 -5.56776436e+00  2.48307945e-16\n",
      "   2.48307945e-16]\n",
      " [-7.63278329e-17 -7.63278329e-17 -7.63278329e-17 -3.74165739e+00\n",
      "  -3.74165739e+00]]\n",
      "[[-0.75502547 -0.87646191]\n",
      " [-1.13253821 -1.31469286]\n",
      " [-0.37751274 -0.43823095]\n",
      " [ 0.14663233 -1.26627719]\n",
      " [ 0.29326466 -2.53255437]\n",
      " [ 0.73316164 -6.33138594]\n",
      " [ 0.14663233 -1.26627719]]\n"
     ]
    }
   ],
   "source": [
    "A=[[0,0,0,2,2],\n",
    "  [0,0,0,3,3],\n",
    "  [0,0,0,1,1],\n",
    "  [1,1,1,0,0],\n",
    "  [2,2,2,0,0],\n",
    "  [5,5,5,0,0],\n",
    "  [1,1,1,0,0]]\n",
    "\n",
    "U,sigma,VT=np.linalg.svd(A)\n",
    "U_T_2x7=U.T[:2,:]\n",
    "print(np.dot(U_T_2x7,A))\n",
    "VT_2x5=VT.T[:2,:]\n",
    "print(np.dot(VT_2x5,np.mat(A).T).T)"
   ]
  },
  {
   "cell_type": "code",
   "execution_count": 11,
   "id": "957dc431",
   "metadata": {
    "ExecuteTime": {
     "end_time": "2022-08-10T09:10:20.947754Z",
     "start_time": "2022-08-10T09:10:20.933738Z"
    }
   },
   "outputs": [
    {
     "data": {
      "text/plain": [
       "array([[ 1.24153973e-16,  1.38448957e-32,  0.00000000e+00,\n",
       "        -1.79605302e-01, -3.59210604e-01, -8.98026510e-01,\n",
       "        -1.79605302e-01],\n",
       "       [-5.34522484e-01, -8.01783726e-01, -2.67261242e-01,\n",
       "        -2.05774198e-17,  2.46872204e-17, -2.34936928e-17,\n",
       "         1.23436102e-17]])"
      ]
     },
     "execution_count": 11,
     "metadata": {},
     "output_type": "execute_result"
    }
   ],
   "source": [
    "U_T_2x7"
   ]
  },
  {
   "cell_type": "code",
   "execution_count": 12,
   "id": "08f75c8d",
   "metadata": {
    "ExecuteTime": {
     "end_time": "2022-08-10T09:10:20.963758Z",
     "start_time": "2022-08-10T09:10:20.948752Z"
    }
   },
   "outputs": [
    {
     "name": "stdout",
     "output_type": "stream",
     "text": [
      "[[ 6.13544436e-18 -1.03995782e-15 -1.03995782e-15  2.00000000e+00\n",
      "   2.00000000e+00]\n",
      " [ 1.04609326e-15 -5.23046632e-16 -5.23046632e-16  3.00000000e+00\n",
      "   3.00000000e+00]\n",
      " [ 3.48697754e-16 -1.74348877e-16 -1.74348877e-16  1.00000000e+00\n",
      "   1.00000000e+00]\n",
      " [ 1.00000000e+00  1.00000000e+00  1.00000000e+00  7.69936548e-17\n",
      "   7.69936548e-17]\n",
      " [ 2.00000000e+00  2.00000000e+00  2.00000000e+00 -9.23711205e-17\n",
      "  -9.23711205e-17]\n",
      " [ 5.00000000e+00  5.00000000e+00  5.00000000e+00  8.79053493e-17\n",
      "   8.79053493e-17]\n",
      " [ 1.00000000e+00  1.00000000e+00  1.00000000e+00 -4.61855603e-17\n",
      "  -4.61855603e-17]]\n"
     ]
    }
   ],
   "source": [
    "A=[[0,0,0,2,2],\n",
    "  [0,0,0,3,3],\n",
    "  [0,0,0,1,1],\n",
    "  [1,1,1,0,0],\n",
    "  [2,2,2,0,0],\n",
    "  [5,5,5,0,0],\n",
    "  [1,1,1,0,0]]\n",
    "\n",
    "U,sigma,VT=np.linalg.svd(A)\n",
    "A_1=sigma[0]*np.dot(np.mat(U[:,0]).T,np.mat(VT[0,:]))\n",
    "A_2=sigma[1]*np.dot(np.mat(U[:,1]).T,np.mat(VT[1,:]))\n",
    "print(A_1+A_2)"
   ]
  },
  {
   "cell_type": "code",
   "execution_count": null,
   "id": "128d4925",
   "metadata": {},
   "outputs": [],
   "source": []
  }
 ],
 "metadata": {
  "hide_input": false,
  "kernelspec": {
   "display_name": "Python 3 (ipykernel)",
   "language": "python",
   "name": "python3"
  },
  "language_info": {
   "codemirror_mode": {
    "name": "ipython",
    "version": 3
   },
   "file_extension": ".py",
   "mimetype": "text/x-python",
   "name": "python",
   "nbconvert_exporter": "python",
   "pygments_lexer": "ipython3",
   "version": "3.9.12"
  },
  "nbTranslate": {
   "displayLangs": [
    "*"
   ],
   "hotkey": "alt-t",
   "langInMainMenu": true,
   "sourceLang": "en",
   "targetLang": "fr",
   "useGoogleTranslate": true
  },
  "toc": {
   "base_numbering": 1,
   "nav_menu": {},
   "number_sections": true,
   "sideBar": true,
   "skip_h1_title": false,
   "title_cell": "Table of Contents",
   "title_sidebar": "Contents",
   "toc_cell": false,
   "toc_position": {},
   "toc_section_display": true,
   "toc_window_display": false
  },
  "varInspector": {
   "cols": {
    "lenName": 16,
    "lenType": 16,
    "lenVar": 40
   },
   "kernels_config": {
    "python": {
     "delete_cmd_postfix": "",
     "delete_cmd_prefix": "del ",
     "library": "var_list.py",
     "varRefreshCmd": "print(var_dic_list())"
    },
    "r": {
     "delete_cmd_postfix": ") ",
     "delete_cmd_prefix": "rm(",
     "library": "var_list.r",
     "varRefreshCmd": "cat(var_dic_list()) "
    }
   },
   "types_to_exclude": [
    "module",
    "function",
    "builtin_function_or_method",
    "instance",
    "_Feature"
   ],
   "window_display": false
  }
 },
 "nbformat": 4,
 "nbformat_minor": 5
}
