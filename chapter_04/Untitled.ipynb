{
 "cells": [
  {
   "cell_type": "code",
   "execution_count": 1,
   "id": "54e988ba",
   "metadata": {
    "ExecuteTime": {
     "end_time": "2022-08-09T06:11:19.255900Z",
     "start_time": "2022-08-09T06:11:19.110836Z"
    }
   },
   "outputs": [],
   "source": [
    "import numpy as np\n",
    "from scipy import linalg"
   ]
  },
  {
   "cell_type": "code",
   "execution_count": 2,
   "id": "8936a301",
   "metadata": {
    "ExecuteTime": {
     "end_time": "2022-08-09T06:12:35.892935Z",
     "start_time": "2022-08-09T06:12:35.863936Z"
    }
   },
   "outputs": [
    {
     "name": "stdout",
     "output_type": "stream",
     "text": [
      "[3.+0.j 1.+0.j]\n",
      "[[ 0.70710678 -0.70710678]\n",
      " [ 0.70710678  0.70710678]]\n"
     ]
    }
   ],
   "source": [
    "A=np.array([[2,1],\n",
    "           [1,2]])\n",
    "evalue,evector=linalg.eig(A)\n",
    "print(evalue)\n",
    "print(evector)"
   ]
  },
  {
   "cell_type": "code",
   "execution_count": 3,
   "id": "35752056",
   "metadata": {
    "ExecuteTime": {
     "end_time": "2022-08-09T06:19:35.537517Z",
     "start_time": "2022-08-09T06:19:35.523520Z"
    }
   },
   "outputs": [
    {
     "name": "stdout",
     "output_type": "stream",
     "text": [
      "[1.+0.j 2.+0.j 5.+0.j]\n",
      "[[1. 0. 0.]\n",
      " [0. 1. 0.]\n",
      " [0. 0. 1.]]\n"
     ]
    }
   ],
   "source": [
    "A=np.array([[1,0,0],\n",
    "           [0,2,0],\n",
    "           [0,0,5]])\n",
    "evalue,evector=linalg.eig(A)\n",
    "print(evalue)\n",
    "print(evector)"
   ]
  },
  {
   "cell_type": "code",
   "execution_count": 4,
   "id": "0983ef86",
   "metadata": {
    "ExecuteTime": {
     "end_time": "2022-08-09T06:20:45.282953Z",
     "start_time": "2022-08-09T06:20:45.266951Z"
    }
   },
   "outputs": [
    {
     "name": "stdout",
     "output_type": "stream",
     "text": [
      "[-2.+0.j  5.+0.j  5.+0.j]\n",
      "[[-0.89442719 -0.83205029  0.        ]\n",
      " [ 0.4472136  -0.5547002   0.        ]\n",
      " [ 0.          0.          1.        ]]\n"
     ]
    }
   ],
   "source": [
    "A=np.array([[1,6,0],\n",
    "           [2,2,0],\n",
    "           [0,0,5]])\n",
    "evalue,evector=linalg.eig(A)\n",
    "print(evalue)\n",
    "print(evector)"
   ]
  },
  {
   "cell_type": "code",
   "execution_count": 5,
   "id": "1a72e751",
   "metadata": {
    "ExecuteTime": {
     "end_time": "2022-08-09T06:29:24.346929Z",
     "start_time": "2022-08-09T06:29:24.326920Z"
    }
   },
   "outputs": [
    {
     "name": "stdout",
     "output_type": "stream",
     "text": [
      "[6.+0.j 4.+0.j 6.+0.j]\n",
      "[[ 1.00000000e+00  7.07106781e-01 -1.00000000e+00]\n",
      " [ 0.00000000e+00  7.07106781e-01  0.00000000e+00]\n",
      " [ 0.00000000e+00  0.00000000e+00  1.33226763e-15]]\n"
     ]
    }
   ],
   "source": [
    "A=np.array([[6,-2,1],\n",
    "           [0,4,0],\n",
    "           [0,0,6]])\n",
    "evalue,evector=linalg.eig(A)\n",
    "print(evalue)\n",
    "print(evector)"
   ]
  },
  {
   "cell_type": "code",
   "execution_count": null,
   "id": "98eac342",
   "metadata": {},
   "outputs": [],
   "source": []
  }
 ],
 "metadata": {
  "hide_input": false,
  "kernelspec": {
   "display_name": "Python 3 (ipykernel)",
   "language": "python",
   "name": "python3"
  },
  "language_info": {
   "codemirror_mode": {
    "name": "ipython",
    "version": 3
   },
   "file_extension": ".py",
   "mimetype": "text/x-python",
   "name": "python",
   "nbconvert_exporter": "python",
   "pygments_lexer": "ipython3",
   "version": "3.9.12"
  },
  "nbTranslate": {
   "displayLangs": [
    "*"
   ],
   "hotkey": "alt-t",
   "langInMainMenu": true,
   "sourceLang": "en",
   "targetLang": "fr",
   "useGoogleTranslate": true
  },
  "toc": {
   "base_numbering": 1,
   "nav_menu": {},
   "number_sections": true,
   "sideBar": true,
   "skip_h1_title": false,
   "title_cell": "Table of Contents",
   "title_sidebar": "Contents",
   "toc_cell": false,
   "toc_position": {},
   "toc_section_display": true,
   "toc_window_display": false
  },
  "varInspector": {
   "cols": {
    "lenName": 16,
    "lenType": 16,
    "lenVar": 40
   },
   "kernels_config": {
    "python": {
     "delete_cmd_postfix": "",
     "delete_cmd_prefix": "del ",
     "library": "var_list.py",
     "varRefreshCmd": "print(var_dic_list())"
    },
    "r": {
     "delete_cmd_postfix": ") ",
     "delete_cmd_prefix": "rm(",
     "library": "var_list.r",
     "varRefreshCmd": "cat(var_dic_list()) "
    }
   },
   "types_to_exclude": [
    "module",
    "function",
    "builtin_function_or_method",
    "instance",
    "_Feature"
   ],
   "window_display": false
  }
 },
 "nbformat": 4,
 "nbformat_minor": 5
}
