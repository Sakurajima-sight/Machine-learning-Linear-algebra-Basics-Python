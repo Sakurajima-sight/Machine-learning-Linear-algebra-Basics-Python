{
 "cells": [
  {
   "cell_type": "code",
   "execution_count": 1,
   "id": "23563fd0",
   "metadata": {
    "ExecuteTime": {
     "end_time": "2022-08-06T03:42:22.959340Z",
     "start_time": "2022-08-06T03:42:22.908363Z"
    }
   },
   "outputs": [
    {
     "name": "stdout",
     "output_type": "stream",
     "text": [
      "2\n",
      "1\n",
      "2\n",
      "1\n",
      "3\n"
     ]
    }
   ],
   "source": [
    "import numpy as np\n",
    "A_1=np.array([[1,1,0],\n",
    "              [1,0,1]])\n",
    "A_2=np.array([[1,2,-1],\n",
    "              [2,4,-2]])\n",
    "A_3=np.array([[1,0],\n",
    "              [0,1],\n",
    "             [0,-1]])\n",
    "A_4=np.array([[1,2],\n",
    "              [1,2],\n",
    "             [-1,-2]])\n",
    "A_5=np.array([[1,1,1],\n",
    "              [1,1,2],\n",
    "             [1,2,3]])\n",
    "print(np.linalg.matrix_rank(A_1))\n",
    "print(np.linalg.matrix_rank(A_2))\n",
    "print(np.linalg.matrix_rank(A_3))\n",
    "print(np.linalg.matrix_rank(A_4))\n",
    "print(np.linalg.matrix_rank(A_5))"
   ]
  },
  {
   "cell_type": "code",
   "execution_count": 3,
   "id": "8f28539c",
   "metadata": {
    "ExecuteTime": {
     "end_time": "2022-08-06T07:13:53.308060Z",
     "start_time": "2022-08-06T07:13:53.285089Z"
    }
   },
   "outputs": [
    {
     "name": "stdout",
     "output_type": "stream",
     "text": [
      "[[  1.    -17.5    13.125]\n",
      " [  0.      0.5    -0.375]\n",
      " [  0.      0.      0.25 ]]\n",
      "[[1. 0. 0.]\n",
      " [0. 1. 0.]\n",
      " [0. 0. 1.]]\n"
     ]
    }
   ],
   "source": [
    "from scipy import linalg\n",
    "A=np.array([[1,35,0],\n",
    "           [0,2,3],\n",
    "           [0,0,4]])\n",
    "A_n=linalg.inv(A)\n",
    "print(A_n)\n",
    "print(np.dot(A,A_n))"
   ]
  },
  {
   "cell_type": "code",
   "execution_count": 5,
   "id": "02c0c50c",
   "metadata": {
    "ExecuteTime": {
     "end_time": "2022-08-06T07:15:33.544630Z",
     "start_time": "2022-08-06T07:15:33.056620Z"
    }
   },
   "outputs": [
    {
     "ename": "LinAlgError",
     "evalue": "singular matrix",
     "output_type": "error",
     "traceback": [
      "\u001b[1;31m---------------------------------------------------------------------------\u001b[0m",
      "\u001b[1;31mLinAlgError\u001b[0m                               Traceback (most recent call last)",
      "Input \u001b[1;32mIn [5]\u001b[0m, in \u001b[0;36m<cell line: 4>\u001b[1;34m()\u001b[0m\n\u001b[0;32m      1\u001b[0m B\u001b[38;5;241m=\u001b[39mnp\u001b[38;5;241m.\u001b[39marray([[\u001b[38;5;241m1\u001b[39m,\u001b[38;5;241m0\u001b[39m,\u001b[38;5;241m2\u001b[39m],\n\u001b[0;32m      2\u001b[0m            [\u001b[38;5;241m0\u001b[39m,\u001b[38;5;241m1\u001b[39m,\u001b[38;5;241m3\u001b[39m],\n\u001b[0;32m      3\u001b[0m            [\u001b[38;5;241m1\u001b[39m,\u001b[38;5;241m1\u001b[39m,\u001b[38;5;241m5\u001b[39m]])\n\u001b[1;32m----> 4\u001b[0m B_n\u001b[38;5;241m=\u001b[39m\u001b[43mlinalg\u001b[49m\u001b[38;5;241;43m.\u001b[39;49m\u001b[43minv\u001b[49m\u001b[43m(\u001b[49m\u001b[43mB\u001b[49m\u001b[43m)\u001b[49m\n\u001b[0;32m      5\u001b[0m \u001b[38;5;28mprint\u001b[39m(B_n)\n\u001b[0;32m      6\u001b[0m \u001b[38;5;28mprint\u001b[39m(np\u001b[38;5;241m.\u001b[39mdot(B,B_n))\n",
      "File \u001b[1;32m~\\anaconda3\\lib\\site-packages\\scipy\\linalg\\basic.py:968\u001b[0m, in \u001b[0;36minv\u001b[1;34m(a, overwrite_a, check_finite)\u001b[0m\n\u001b[0;32m    966\u001b[0m     inv_a, info \u001b[38;5;241m=\u001b[39m getri(lu, piv, lwork\u001b[38;5;241m=\u001b[39mlwork, overwrite_lu\u001b[38;5;241m=\u001b[39m\u001b[38;5;241m1\u001b[39m)\n\u001b[0;32m    967\u001b[0m \u001b[38;5;28;01mif\u001b[39;00m info \u001b[38;5;241m>\u001b[39m \u001b[38;5;241m0\u001b[39m:\n\u001b[1;32m--> 968\u001b[0m     \u001b[38;5;28;01mraise\u001b[39;00m LinAlgError(\u001b[38;5;124m\"\u001b[39m\u001b[38;5;124msingular matrix\u001b[39m\u001b[38;5;124m\"\u001b[39m)\n\u001b[0;32m    969\u001b[0m \u001b[38;5;28;01mif\u001b[39;00m info \u001b[38;5;241m<\u001b[39m \u001b[38;5;241m0\u001b[39m:\n\u001b[0;32m    970\u001b[0m     \u001b[38;5;28;01mraise\u001b[39;00m \u001b[38;5;167;01mValueError\u001b[39;00m(\u001b[38;5;124m'\u001b[39m\u001b[38;5;124millegal value in \u001b[39m\u001b[38;5;132;01m%d\u001b[39;00m\u001b[38;5;124m-th argument of internal \u001b[39m\u001b[38;5;124m'\u001b[39m\n\u001b[0;32m    971\u001b[0m                      \u001b[38;5;124m'\u001b[39m\u001b[38;5;124mgetrf|getri\u001b[39m\u001b[38;5;124m'\u001b[39m \u001b[38;5;241m%\u001b[39m \u001b[38;5;241m-\u001b[39minfo)\n",
      "\u001b[1;31mLinAlgError\u001b[0m: singular matrix"
     ]
    }
   ],
   "source": [
    "# Error\n",
    "# B=np.array([[1,0,2],\n",
    "#            [0,1,3],\n",
    "#            [1,1,5]])\n",
    "# B_n=linalg.inv(B)\n",
    "# print(B_n)\n",
    "# print(np.dot(B,B_n))"
   ]
  },
  {
   "cell_type": "code",
   "execution_count": 8,
   "id": "32eaf1bd",
   "metadata": {
    "ExecuteTime": {
     "end_time": "2022-08-06T12:51:25.494474Z",
     "start_time": "2022-08-06T12:51:25.486464Z"
    }
   },
   "outputs": [
    {
     "name": "stdout",
     "output_type": "stream",
     "text": [
      "[1. 2. 3.]\n"
     ]
    }
   ],
   "source": [
    "A=np.array([[1,2,3],\n",
    "           [1,-1,4],\n",
    "           [2,3,-1]])\n",
    "y=np.array([14,11,5])\n",
    "x=linalg.solve(A,y)\n",
    "print(x)"
   ]
  },
  {
   "cell_type": "code",
   "execution_count": null,
   "id": "6135d7a1",
   "metadata": {},
   "outputs": [],
   "source": []
  }
 ],
 "metadata": {
  "hide_input": false,
  "kernelspec": {
   "display_name": "Python 3 (ipykernel)",
   "language": "python",
   "name": "python3"
  },
  "language_info": {
   "codemirror_mode": {
    "name": "ipython",
    "version": 3
   },
   "file_extension": ".py",
   "mimetype": "text/x-python",
   "name": "python",
   "nbconvert_exporter": "python",
   "pygments_lexer": "ipython3",
   "version": "3.9.12"
  },
  "nbTranslate": {
   "displayLangs": [
    "*"
   ],
   "hotkey": "alt-t",
   "langInMainMenu": true,
   "sourceLang": "en",
   "targetLang": "fr",
   "useGoogleTranslate": true
  },
  "toc": {
   "base_numbering": 1,
   "nav_menu": {},
   "number_sections": true,
   "sideBar": true,
   "skip_h1_title": false,
   "title_cell": "Table of Contents",
   "title_sidebar": "Contents",
   "toc_cell": false,
   "toc_position": {},
   "toc_section_display": true,
   "toc_window_display": false
  },
  "varInspector": {
   "cols": {
    "lenName": 16,
    "lenType": 16,
    "lenVar": 40
   },
   "kernels_config": {
    "python": {
     "delete_cmd_postfix": "",
     "delete_cmd_prefix": "del ",
     "library": "var_list.py",
     "varRefreshCmd": "print(var_dic_list())"
    },
    "r": {
     "delete_cmd_postfix": ") ",
     "delete_cmd_prefix": "rm(",
     "library": "var_list.r",
     "varRefreshCmd": "cat(var_dic_list()) "
    }
   },
   "types_to_exclude": [
    "module",
    "function",
    "builtin_function_or_method",
    "instance",
    "_Feature"
   ],
   "window_display": false
  }
 },
 "nbformat": 4,
 "nbformat_minor": 5
}
